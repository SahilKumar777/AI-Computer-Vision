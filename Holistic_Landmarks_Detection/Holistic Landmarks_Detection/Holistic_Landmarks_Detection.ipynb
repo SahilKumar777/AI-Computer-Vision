{
  "cells": [
    {
      "cell_type": "markdown",
      "metadata": {
        "id": "9frCUvAOwfPr"
      },
      "source": [
        "---\n",
        "# **Project** : **Holistic Landmarks Detection on image and video**\n",
        "---\n",
        "### ---> **Sahil Kumar 777**\n",
        "\n",
        "This project performs pose, face and hands landmarks detection in real time using mediapipe framework. The output can be can be used in various applications like to identify key body locations, analyze posture, and categorize movements.\n",
        "\n",
        "* **Objective :-**Detect face, hands and pose landmarks at same time\n",
        "* **Modules :-** openCV, Mediapipe\n"
      ]
    },
    {
      "cell_type": "markdown",
      "metadata": {
        "id": "tjt2H0zpzLch"
      },
      "source": [
        "## Install Important Libraries"
      ]
    },
    {
      "cell_type": "code",
      "execution_count": 2,
      "metadata": {
        "colab": {
          "base_uri": "https://localhost:8080/",
          "height": 0
        },
        "id": "iexIH-JsweSh",
        "outputId": "eefb15ec-f381-49e6-9aad-c355559470fa"
      },
      "outputs": [
        {
          "output_type": "stream",
          "name": "stdout",
          "text": [
            "Collecting mediapipe\n",
            "  Downloading mediapipe-0.10.21-cp311-cp311-manylinux_2_28_x86_64.whl.metadata (9.7 kB)\n",
            "Requirement already satisfied: absl-py in /usr/local/lib/python3.11/dist-packages (from mediapipe) (1.4.0)\n",
            "Requirement already satisfied: attrs>=19.1.0 in /usr/local/lib/python3.11/dist-packages (from mediapipe) (25.3.0)\n",
            "Requirement already satisfied: flatbuffers>=2.0 in /usr/local/lib/python3.11/dist-packages (from mediapipe) (25.2.10)\n",
            "Requirement already satisfied: jax in /usr/local/lib/python3.11/dist-packages (from mediapipe) (0.5.2)\n",
            "Requirement already satisfied: jaxlib in /usr/local/lib/python3.11/dist-packages (from mediapipe) (0.5.1)\n",
            "Requirement already satisfied: matplotlib in /usr/local/lib/python3.11/dist-packages (from mediapipe) (3.10.0)\n",
            "Collecting numpy<2 (from mediapipe)\n",
            "  Downloading numpy-1.26.4-cp311-cp311-manylinux_2_17_x86_64.manylinux2014_x86_64.whl.metadata (61 kB)\n",
            "\u001b[2K     \u001b[90m━━━━━━━━━━━━━━━━━━━━━━━━━━━━━━━━━━━━━━━━\u001b[0m \u001b[32m61.0/61.0 kB\u001b[0m \u001b[31m2.7 MB/s\u001b[0m eta \u001b[36m0:00:00\u001b[0m\n",
            "\u001b[?25hRequirement already satisfied: opencv-contrib-python in /usr/local/lib/python3.11/dist-packages (from mediapipe) (4.11.0.86)\n",
            "Collecting protobuf<5,>=4.25.3 (from mediapipe)\n",
            "  Downloading protobuf-4.25.8-cp37-abi3-manylinux2014_x86_64.whl.metadata (541 bytes)\n",
            "Collecting sounddevice>=0.4.4 (from mediapipe)\n",
            "  Downloading sounddevice-0.5.2-py3-none-any.whl.metadata (1.6 kB)\n",
            "Requirement already satisfied: sentencepiece in /usr/local/lib/python3.11/dist-packages (from mediapipe) (0.2.0)\n",
            "Requirement already satisfied: CFFI>=1.0 in /usr/local/lib/python3.11/dist-packages (from sounddevice>=0.4.4->mediapipe) (1.17.1)\n",
            "Requirement already satisfied: ml_dtypes>=0.4.0 in /usr/local/lib/python3.11/dist-packages (from jax->mediapipe) (0.4.1)\n",
            "Requirement already satisfied: opt_einsum in /usr/local/lib/python3.11/dist-packages (from jax->mediapipe) (3.4.0)\n",
            "Requirement already satisfied: scipy>=1.11.1 in /usr/local/lib/python3.11/dist-packages (from jax->mediapipe) (1.15.3)\n",
            "Requirement already satisfied: contourpy>=1.0.1 in /usr/local/lib/python3.11/dist-packages (from matplotlib->mediapipe) (1.3.2)\n",
            "Requirement already satisfied: cycler>=0.10 in /usr/local/lib/python3.11/dist-packages (from matplotlib->mediapipe) (0.12.1)\n",
            "Requirement already satisfied: fonttools>=4.22.0 in /usr/local/lib/python3.11/dist-packages (from matplotlib->mediapipe) (4.58.5)\n",
            "Requirement already satisfied: kiwisolver>=1.3.1 in /usr/local/lib/python3.11/dist-packages (from matplotlib->mediapipe) (1.4.8)\n",
            "Requirement already satisfied: packaging>=20.0 in /usr/local/lib/python3.11/dist-packages (from matplotlib->mediapipe) (24.2)\n",
            "Requirement already satisfied: pillow>=8 in /usr/local/lib/python3.11/dist-packages (from matplotlib->mediapipe) (11.2.1)\n",
            "Requirement already satisfied: pyparsing>=2.3.1 in /usr/local/lib/python3.11/dist-packages (from matplotlib->mediapipe) (3.2.3)\n",
            "Requirement already satisfied: python-dateutil>=2.7 in /usr/local/lib/python3.11/dist-packages (from matplotlib->mediapipe) (2.9.0.post0)\n",
            "Requirement already satisfied: pycparser in /usr/local/lib/python3.11/dist-packages (from CFFI>=1.0->sounddevice>=0.4.4->mediapipe) (2.22)\n",
            "Requirement already satisfied: six>=1.5 in /usr/local/lib/python3.11/dist-packages (from python-dateutil>=2.7->matplotlib->mediapipe) (1.17.0)\n",
            "Downloading mediapipe-0.10.21-cp311-cp311-manylinux_2_28_x86_64.whl (35.6 MB)\n",
            "\u001b[2K   \u001b[90m━━━━━━━━━━━━━━━━━━━━━━━━━━━━━━━━━━━━━━━━\u001b[0m \u001b[32m35.6/35.6 MB\u001b[0m \u001b[31m32.4 MB/s\u001b[0m eta \u001b[36m0:00:00\u001b[0m\n",
            "\u001b[?25hDownloading numpy-1.26.4-cp311-cp311-manylinux_2_17_x86_64.manylinux2014_x86_64.whl (18.3 MB)\n",
            "\u001b[2K   \u001b[90m━━━━━━━━━━━━━━━━━━━━━━━━━━━━━━━━━━━━━━━━\u001b[0m \u001b[32m18.3/18.3 MB\u001b[0m \u001b[31m46.4 MB/s\u001b[0m eta \u001b[36m0:00:00\u001b[0m\n",
            "\u001b[?25hDownloading protobuf-4.25.8-cp37-abi3-manylinux2014_x86_64.whl (294 kB)\n",
            "\u001b[2K   \u001b[90m━━━━━━━━━━━━━━━━━━━━━━━━━━━━━━━━━━━━━━━━\u001b[0m \u001b[32m294.9/294.9 kB\u001b[0m \u001b[31m19.7 MB/s\u001b[0m eta \u001b[36m0:00:00\u001b[0m\n",
            "\u001b[?25hDownloading sounddevice-0.5.2-py3-none-any.whl (32 kB)\n",
            "Installing collected packages: protobuf, numpy, sounddevice, mediapipe\n",
            "  Attempting uninstall: protobuf\n",
            "    Found existing installation: protobuf 5.29.5\n",
            "    Uninstalling protobuf-5.29.5:\n",
            "      Successfully uninstalled protobuf-5.29.5\n",
            "  Attempting uninstall: numpy\n",
            "    Found existing installation: numpy 2.0.2\n",
            "    Uninstalling numpy-2.0.2:\n",
            "      Successfully uninstalled numpy-2.0.2\n",
            "\u001b[31mERROR: pip's dependency resolver does not currently take into account all the packages that are installed. This behaviour is the source of the following dependency conflicts.\n",
            "ydf 0.12.0 requires protobuf<6.0.0,>=5.29.1, but you have protobuf 4.25.8 which is incompatible.\n",
            "opencv-python-headless 4.12.0.88 requires numpy<2.3.0,>=2; python_version >= \"3.9\", but you have numpy 1.26.4 which is incompatible.\n",
            "thinc 8.3.6 requires numpy<3.0.0,>=2.0.0, but you have numpy 1.26.4 which is incompatible.\n",
            "grpcio-status 1.71.2 requires protobuf<6.0dev,>=5.26.1, but you have protobuf 4.25.8 which is incompatible.\u001b[0m\u001b[31m\n",
            "\u001b[0mSuccessfully installed mediapipe-0.10.21 numpy-1.26.4 protobuf-4.25.8 sounddevice-0.5.2\n"
          ]
        },
        {
          "output_type": "display_data",
          "data": {
            "application/vnd.colab-display-data+json": {
              "pip_warning": {
                "packages": [
                  "google",
                  "numpy"
                ]
              },
              "id": "09f96bef0e0b4e5283fc49ea46b3cc1f"
            }
          },
          "metadata": {}
        }
      ],
      "source": [
        "pip install mediapipe"
      ]
    },
    {
      "cell_type": "markdown",
      "metadata": {
        "id": "7rv_ZQY5zhft"
      },
      "source": [
        "## Functions to visualize results"
      ]
    },
    {
      "cell_type": "markdown",
      "metadata": {
        "id": "Tm3hRncLQeu8"
      },
      "source": [
        "### Generete and Save Video from ImageList"
      ]
    },
    {
      "cell_type": "code",
      "execution_count": 1,
      "metadata": {
        "id": "s_n0ybemQfzL"
      },
      "outputs": [],
      "source": [
        "# Convert To Video\n",
        "\n",
        "import cv2\n",
        "import mediapipe as mp\n",
        "\n",
        "def visualize_video(filename,images) :\n",
        "  \"\"\" Function to generate video from list of images.\n",
        "      Args:\n",
        "          filename\n",
        "          images\n",
        "      Return :\n",
        "          It returns filename \"\"\"\n",
        "\n",
        "  imagesList = [image for image in images]\n",
        "\n",
        "  # Define the codec and create a VideoWriter object\n",
        "  fourcc = cv2.VideoWriter_fourcc(*'VP80')  # Can use other codecs like 'mp4v' (for .mp4 files) but mp4 converted files are not supported by coalb and browsers\n",
        "  fps = 30  # Frames per second\n",
        "  height, width, _ = imagesList[0].shape\n",
        "\n",
        "  # Open VideoWriter\n",
        "  video_writer =  cv2.VideoWriter(filename, fourcc, fps, (width, height))\n",
        "\n",
        "  # Display gestures and hand landmarks.\n",
        "  for image in imagesList:\n",
        "    annotated_image = image.copy()\n",
        "    video_writer.write(annotated_image)\n",
        "  video_writer.release() # Closes VideoWriter\n",
        "  return filename"
      ]
    },
    {
      "cell_type": "markdown",
      "metadata": {
        "id": "OdKzZ-4DRDaT"
      },
      "source": [
        "### Function to Play Video In Colab"
      ]
    },
    {
      "cell_type": "code",
      "execution_count": 2,
      "metadata": {
        "id": "DkMBlt9TRD6D"
      },
      "outputs": [],
      "source": [
        "from IPython.display import HTML\n",
        "from base64 import b64encode\n",
        "\n",
        "def play_video_in_colab(filepath) :\n",
        "\n",
        "  with open(filepath,'rb') as file :\n",
        "    mp4 = file.read()\n",
        "    data_url = \"data:video/\"+ filepath.split('.')[-1] +\";base64,\"  + b64encode(mp4).decode()\n",
        "\n",
        "  return HTML(\"\"\"\n",
        "    <video src=\"%s\" type=\"video/webm\" width=\"640\" height=\"480\" controls autoplay>\n",
        "    </video>\n",
        "  \"\"\"  % data_url)"
      ]
    },
    {
      "cell_type": "markdown",
      "metadata": {
        "id": "7okEox80f_mE"
      },
      "source": [
        "## Image holistic landmarks detection\n"
      ]
    },
    {
      "cell_type": "code",
      "execution_count": 3,
      "metadata": {
        "id": "Q8GroDz8ioJT",
        "colab": {
          "base_uri": "https://localhost:8080/",
          "height": 450
        },
        "outputId": "91f0f78e-5ab1-44c7-815f-91131f726625"
      },
      "outputs": [
        {
          "output_type": "stream",
          "name": "stdout",
          "text": [
            "Downloading model to /usr/local/lib/python3.11/dist-packages/mediapipe/modules/pose_landmark/pose_landmark_heavy.tflite\n",
            "Nose coordinates: (134.44540083408356, 60.07031720876694)\n"
          ]
        },
        {
          "output_type": "display_data",
          "data": {
            "text/plain": [
              "<PIL.Image.Image image mode=RGB size=185x397>"
            ],
            "image/png": "[encoded data removed]",
            "image/jpeg": "[encoded data removed]"
          },
          "metadata": {}
        }
      ],
      "source": [
        "import cv2\n",
        "import numpy as np\n",
        "import mediapipe as mp\n",
        "from google.colab.patches import cv2_imshow\n",
        "\n",
        "mp_drawing = mp.solutions.drawing_utils\n",
        "mp_drawing_styles = mp.solutions.drawing_styles\n",
        "mp_holistic = mp.solutions.holistic\n",
        "\n",
        "BG_COLOR = (192, 192, 192) # gray\n",
        "\n",
        "with mp_holistic.Holistic(\n",
        "    static_image_mode=True,\n",
        "    model_complexity=2,\n",
        "    enable_segmentation=True,\n",
        "    refine_face_landmarks=True) as holistic:\n",
        "\n",
        "  image = cv2.imread(\"Sahil_pose.jpeg\")\n",
        "  image_height, image_width, _ = image.shape\n",
        "  # Convert the BGR image to RGB before processing.\n",
        "  results = holistic.process(cv2.cvtColor(image, cv2.COLOR_BGR2RGB))\n",
        "\n",
        "  if results.pose_landmarks:\n",
        "    print(\n",
        "        f'Nose coordinates: ('\n",
        "        f'{results.pose_landmarks.landmark[mp_holistic.PoseLandmark.NOSE].x * image_width}, '\n",
        "        f'{results.pose_landmarks.landmark[mp_holistic.PoseLandmark.NOSE].y * image_height})'\n",
        "    )\n",
        "\n",
        "  annotated_image = image.copy()\n",
        "  # Draw segmentation on the image.\n",
        "  # To improve segmentation around boundaries, consider applying a joint\n",
        "  # bilateral filter to \"results.segmentation_mask\" with \"image\".\n",
        "  condition = np.stack((results.segmentation_mask,) * 3, axis=-1) > 0.1\n",
        "  bg_image = np.zeros(image.shape, dtype=np.uint8)\n",
        "  bg_image[:] = BG_COLOR\n",
        "  annotated_image = np.where(condition, annotated_image, bg_image)\n",
        "\n",
        "  # Draw pose, left and right hands, and face landmarks on the image.\n",
        "  mp_drawing.draw_landmarks(\n",
        "      annotated_image,\n",
        "      results.face_landmarks,\n",
        "      mp_holistic.FACEMESH_TESSELATION,\n",
        "      landmark_drawing_spec=None,\n",
        "      connection_drawing_spec=mp_drawing_styles\n",
        "      .get_default_face_mesh_tesselation_style())\n",
        "\n",
        "  mp_drawing.draw_landmarks(\n",
        "      annotated_image,\n",
        "      results.pose_landmarks,\n",
        "      mp_holistic.POSE_CONNECTIONS,\n",
        "      landmark_drawing_spec=mp_drawing_styles.\n",
        "      get_default_pose_landmarks_style())\n",
        "\n",
        "\n",
        "  # cv2.imwrite('/tmp/annotated_image' + str(idx) + '.png', annotated_image)\n",
        "\n",
        "  # # Plot pose world landmarks.\n",
        "  # mp_drawing.plot_landmarks(\n",
        "  #     results.pose_world_landmarks, mp_holistic.POSE_CONNECTIONS)\n",
        "  cv2_imshow(annotated_image)"
      ]
    },
    {
      "cell_type": "markdown",
      "metadata": {
        "id": "TPCjFw3Zs3I9"
      },
      "source": [
        "## Video holistic detection\n"
      ]
    },
    {
      "cell_type": "code",
      "execution_count": null,
      "metadata": {
        "id": "_BieLftgs3I_"
      },
      "outputs": [],
      "source": [
        "import cv2\n",
        "import numpy as np\n",
        "import mediapipe as mp\n",
        "from google.colab.patches import cv2_imshow\n",
        "\n",
        "mp_drawing = mp.solutions.drawing_utils\n",
        "mp_drawing_styles = mp.solutions.drawing_styles\n",
        "mp_holistic = mp.solutions.holistic"
      ]
    },
    {
      "cell_type": "code",
      "execution_count": 5,
      "metadata": {
        "colab": {
          "base_uri": "https://localhost:8080/"
        },
        "collapsed": true,
        "id": "bLR3xQP9lcw8",
        "outputId": "2f42bf7b-4b1a-417e-9f24-c3053c1407e9"
      },
      "outputs": [
        {
          "output_type": "stream",
          "name": "stdout",
          "text": [
            "0\n",
            "1\n",
            "2\n",
            "3\n",
            "4\n",
            "5\n",
            "6\n",
            "7\n",
            "8\n",
            "9\n",
            "10\n",
            "11\n",
            "12\n",
            "13\n",
            "14\n",
            "15\n",
            "16\n",
            "17\n",
            "18\n",
            "19\n",
            "20\n",
            "21\n",
            "22\n",
            "23\n",
            "24\n",
            "25\n",
            "26\n",
            "27\n",
            "28\n",
            "29\n",
            "30\n",
            "31\n",
            "32\n",
            "33\n",
            "34\n",
            "35\n",
            "36\n",
            "37\n",
            "38\n",
            "39\n",
            "40\n",
            "41\n",
            "42\n",
            "43\n",
            "44\n",
            "45\n",
            "46\n",
            "47\n",
            "48\n",
            "49\n",
            "50\n",
            "51\n",
            "52\n",
            "53\n",
            "54\n",
            "55\n",
            "56\n",
            "57\n",
            "58\n",
            "59\n",
            "60\n",
            "61\n",
            "62\n",
            "63\n",
            "64\n",
            "65\n",
            "66\n",
            "67\n",
            "68\n",
            "69\n",
            "70\n",
            "71\n",
            "72\n",
            "73\n",
            "74\n",
            "75\n",
            "76\n",
            "77\n",
            "78\n",
            "79\n",
            "80\n",
            "81\n",
            "82\n",
            "83\n",
            "84\n",
            "85\n",
            "86\n",
            "87\n",
            "88\n",
            "89\n",
            "90\n",
            "91\n",
            "92\n",
            "93\n",
            "94\n",
            "95\n",
            "96\n",
            "97\n",
            "98\n",
            "99\n",
            "100\n",
            "101\n",
            "102\n",
            "103\n",
            "104\n",
            "105\n",
            "106\n",
            "107\n",
            "108\n",
            "109\n",
            "110\n",
            "111\n",
            "112\n",
            "113\n",
            "114\n",
            "115\n",
            "116\n",
            "117\n",
            "118\n",
            "119\n",
            "120\n",
            "121\n",
            "122\n",
            "123\n",
            "124\n",
            "125\n",
            "126\n",
            "127\n",
            "128\n",
            "129\n",
            "130\n",
            "131\n",
            "132\n",
            "133\n",
            "134\n",
            "135\n",
            "136\n",
            "137\n",
            "138\n",
            "139\n",
            "140\n",
            "141\n",
            "142\n",
            "143\n",
            "144\n",
            "145\n",
            "146\n",
            "147\n",
            "148\n",
            "149\n",
            "150\n",
            "151\n",
            "152\n",
            "153\n",
            "154\n",
            "155\n",
            "156\n",
            "157\n",
            "158\n",
            "159\n",
            "160\n",
            "161\n",
            "162\n",
            "163\n",
            "164\n",
            "165\n",
            "166\n",
            "167\n",
            "168\n",
            "169\n",
            "170\n",
            "171\n",
            "172\n",
            "173\n",
            "174\n",
            "175\n",
            "176\n",
            "177\n",
            "178\n",
            "179\n",
            "180\n",
            "181\n",
            "182\n",
            "183\n",
            "184\n",
            "185\n",
            "186\n",
            "187\n",
            "188\n",
            "189\n",
            "190\n",
            "191\n",
            "192\n",
            "193\n",
            "194\n",
            "195\n",
            "196\n",
            "197\n",
            "198\n",
            "199\n",
            "200\n",
            "201\n",
            "202\n",
            "Detection Completed\n",
            "Total Frames :  203\n"
          ]
        }
      ],
      "source": [
        "### H/olistic Landmarks Detection\n",
        "images=[]\n",
        "\n",
        "# STEP 1: Initialize the detector\n",
        "with mp_holistic.Holistic(min_detection_confidence=0.5, min_tracking_confidence=0.5) as holistic:\n",
        "\n",
        "  # STEP 2: Intialize the video capturing into frames\n",
        "  cap = cv2.VideoCapture('newRun.mp4')\n",
        "  i=0\n",
        "\n",
        "  while cap.isOpened():\n",
        "\n",
        "    # STEP 3: Read the frames one by one\n",
        "    success,image = cap.read();\n",
        "\n",
        "    if not success :\n",
        "      if i==0:\n",
        "        print('Empty frame')\n",
        "      else :\n",
        "        print('Detection Completed')\n",
        "        print('Total Frames : ',i)\n",
        "      break\n",
        "    if i == 301 :\n",
        "      break\n",
        "\n",
        "\n",
        "    image.flags.writeable = False\n",
        "    image = cv2.cvtColor(image, cv2.COLOR_BGR2RGB)\n",
        "    results = holistic.process(image)\n",
        "\n",
        "    # Draw landmark annotation on the image.\n",
        "    image.flags.writeable = True\n",
        "    image = cv2.cvtColor(image, cv2.COLOR_RGB2BGR)\n",
        "    mp_drawing.draw_landmarks(\n",
        "        image,\n",
        "        results.face_landmarks,\n",
        "        mp_holistic.FACEMESH_CONTOURS,\n",
        "        landmark_drawing_spec=None,\n",
        "        connection_drawing_spec=mp_drawing_styles\n",
        "        .get_default_face_mesh_contours_style())\n",
        "\n",
        "    mp_drawing.draw_landmarks(\n",
        "        image,\n",
        "        results.pose_landmarks,\n",
        "        mp_holistic.POSE_CONNECTIONS,\n",
        "        landmark_drawing_spec=mp_drawing_styles\n",
        "        .get_default_pose_landmarks_style())\n",
        "\n",
        "    mp_drawing.draw_landmarks(\n",
        "        image,\n",
        "        results.left_hand_landmarks,\n",
        "        mp_holistic.HAND_CONNECTIONS,\n",
        "        mp_drawing_styles.get_default_hand_landmarks_style(),\n",
        "        mp_drawing_styles.get_default_hand_connections_style())\n",
        "\n",
        "    mp_drawing.draw_landmarks(\n",
        "        image,\n",
        "        results.right_hand_landmarks,\n",
        "        mp_holistic.HAND_CONNECTIONS,\n",
        "        mp_drawing_styles.get_default_hand_landmarks_style(),\n",
        "        mp_drawing_styles.get_default_hand_connections_style())\n",
        "\n",
        "    # STEP 5: Process the result. In this case, visualize it.\n",
        "    images.append(image)\n",
        "    print(i)\n",
        "    i+=1\n",
        "\n",
        "  cap.release()\n"
      ]
    },
    {
      "cell_type": "code",
      "execution_count": 6,
      "metadata": {
        "colab": {
          "base_uri": "https://localhost:8080/",
          "height": 36
        },
        "collapsed": true,
        "id": "oIS8BGovlcw8",
        "outputId": "b7cf5967-9267-4eb6-ee37-809508631c18"
      },
      "outputs": [
        {
          "output_type": "execute_result",
          "data": {
            "text/plain": [
              "'OutputVideo1.webm'"
            ],
            "application/vnd.google.colaboratory.intrinsic+json": {
              "type": "string"
            }
          },
          "metadata": {},
          "execution_count": 6
        }
      ],
      "source": [
        "visualize_video('OutputVideo1.webm',images)"
      ]
    },
    {
      "cell_type": "code",
      "execution_count": 10,
      "metadata": {
        "id": "WVZjYRzbgKI9"
      },
      "outputs": [],
      "source": [
        "play_video_in_colab('OutputVideo1.webm')"
      ]
    },
    {
      "cell_type": "code",
      "execution_count": null,
      "metadata": {
        "id": "kdKeZEeR5J8Z"
      },
      "outputs": [],
      "source": []
    }
  ],
  "metadata": {
    "colab": {
      "provenance": [],
      "collapsed_sections": [
        "tjt2H0zpzLch",
        "Tm3hRncLQeu8",
        "OdKzZ-4DRDaT"
      ]
    },
    "kernelspec": {
      "display_name": "Python 3",
      "name": "python3"
    },
    "language_info": {
      "name": "python"
    }
  },
  "nbformat": 4,
  "nbformat_minor": 0
}